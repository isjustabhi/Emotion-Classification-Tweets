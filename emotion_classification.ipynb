{
 "cells": [
  {
   "cell_type": "markdown",
   "id": "4ec01e33",
   "metadata": {},
   "source": [
    "# Emotion Classification in Tweets\n",
    "\n",
    "This notebook implements a traditional NLP pipeline to classify emotions in tweets using the [`mteb/emotion`](https://huggingface.co/datasets/mteb/emotion) dataset. The model will predict one of six emotions:\n",
    "- joy\n",
    "- sadness\n",
    "- anger\n",
    "- fear\n",
    "- love\n",
    "- surprise\n",
    "\n",
    "We use classical machine learning tools such as TF-IDF for text vectorization and Logistic Regression for classification.\n",
    "\n",
    "This serves as a baseline to evaluate how well lightweight models perform in multi-class emotion classification tasks."
   ]
  },
  {
   "cell_type": "code",
   "execution_count": 9,
   "id": "85320ce1",
   "metadata": {},
   "outputs": [],
   "source": [
    "# Load dataset\n",
    "from datasets import load_dataset\n",
    "dataset = load_dataset(\"mteb/emotion\")\n",
    "train_data = dataset['train']\n",
    "test_data = dataset['test']"
   ]
  },
  {
   "cell_type": "code",
   "execution_count": 10,
   "id": "39ffdb98",
   "metadata": {},
   "outputs": [
    {
     "data": {
      "text/html": [
       "<div>\n",
       "<style scoped>\n",
       "    .dataframe tbody tr th:only-of-type {\n",
       "        vertical-align: middle;\n",
       "    }\n",
       "\n",
       "    .dataframe tbody tr th {\n",
       "        vertical-align: top;\n",
       "    }\n",
       "\n",
       "    .dataframe thead th {\n",
       "        text-align: right;\n",
       "    }\n",
       "</style>\n",
       "<table border=\"1\" class=\"dataframe\">\n",
       "  <thead>\n",
       "    <tr style=\"text-align: right;\">\n",
       "      <th></th>\n",
       "      <th>text</th>\n",
       "      <th>label</th>\n",
       "      <th>label_text</th>\n",
       "    </tr>\n",
       "  </thead>\n",
       "  <tbody>\n",
       "    <tr>\n",
       "      <th>0</th>\n",
       "      <td>i didnt feel humiliated</td>\n",
       "      <td>0</td>\n",
       "      <td>sadness</td>\n",
       "    </tr>\n",
       "    <tr>\n",
       "      <th>1</th>\n",
       "      <td>i can go from feeling so hopeless to so damned...</td>\n",
       "      <td>0</td>\n",
       "      <td>sadness</td>\n",
       "    </tr>\n",
       "    <tr>\n",
       "      <th>2</th>\n",
       "      <td>im grabbing a minute to post i feel greedy wrong</td>\n",
       "      <td>3</td>\n",
       "      <td>anger</td>\n",
       "    </tr>\n",
       "    <tr>\n",
       "      <th>3</th>\n",
       "      <td>i am ever feeling nostalgic about the fireplac...</td>\n",
       "      <td>2</td>\n",
       "      <td>love</td>\n",
       "    </tr>\n",
       "    <tr>\n",
       "      <th>4</th>\n",
       "      <td>i am feeling grouchy</td>\n",
       "      <td>3</td>\n",
       "      <td>anger</td>\n",
       "    </tr>\n",
       "  </tbody>\n",
       "</table>\n",
       "</div>"
      ],
      "text/plain": [
       "                                                text  label label_text\n",
       "0                            i didnt feel humiliated      0    sadness\n",
       "1  i can go from feeling so hopeless to so damned...      0    sadness\n",
       "2   im grabbing a minute to post i feel greedy wrong      3      anger\n",
       "3  i am ever feeling nostalgic about the fireplac...      2       love\n",
       "4                               i am feeling grouchy      3      anger"
      ]
     },
     "execution_count": 10,
     "metadata": {},
     "output_type": "execute_result"
    }
   ],
   "source": [
    "# Convert to pandas DataFrame\n",
    "import pandas as pd\n",
    "train_df = pd.DataFrame(train_data)\n",
    "test_df = pd.DataFrame(test_data)\n",
    "train_df.head()"
   ]
  },
  {
   "cell_type": "code",
   "execution_count": 11,
   "id": "9e8bd0d5",
   "metadata": {},
   "outputs": [],
   "source": [
    "# Basic text preprocessing\n",
    "train_df['text_clean'] = train_df['text'].str.lower()\n",
    "test_df['text_clean'] = test_df['text'].str.lower()"
   ]
  },
  {
   "cell_type": "code",
   "execution_count": 12,
   "id": "4fa24b55",
   "metadata": {},
   "outputs": [],
   "source": [
    "# TF-IDF vectorization\n",
    "from sklearn.feature_extraction.text import TfidfVectorizer\n",
    "vectorizer = TfidfVectorizer(max_features=5000, stop_words='english')\n",
    "X_train = vectorizer.fit_transform(train_df['text_clean'])\n",
    "X_test = vectorizer.transform(test_df['text_clean'])"
   ]
  },
  {
   "cell_type": "code",
   "execution_count": 13,
   "id": "432bd314",
   "metadata": {},
   "outputs": [],
   "source": [
    "# Label encoding\n",
    "from sklearn.preprocessing import LabelEncoder\n",
    "le = LabelEncoder()\n",
    "y_train = le.fit_transform(train_df['label'])\n",
    "y_test = le.transform(test_df['label'])"
   ]
  },
  {
   "cell_type": "code",
   "execution_count": 14,
   "id": "c8bedc47",
   "metadata": {},
   "outputs": [
    {
     "data": {
      "text/plain": [
       "LogisticRegression(max_iter=1000)"
      ]
     },
     "execution_count": 14,
     "metadata": {},
     "output_type": "execute_result"
    }
   ],
   "source": [
    "# Train Logistic Regression model\n",
    "from sklearn.linear_model import LogisticRegression\n",
    "model = LogisticRegression(max_iter=1000)\n",
    "model.fit(X_train, y_train)"
   ]
  },
  {
   "cell_type": "code",
   "execution_count": 15,
   "id": "775118c4",
   "metadata": {},
   "outputs": [
    {
     "name": "stdout",
     "output_type": "stream",
     "text": [
      "Classification Report:\n",
      "              precision    recall  f1-score   support\n",
      "\n",
      "           0       0.91      0.92      0.91       581\n",
      "           1       0.85      0.95      0.90       695\n",
      "           2       0.80      0.64      0.71       159\n",
      "           3       0.89      0.83      0.85       275\n",
      "           4       0.87      0.83      0.85       224\n",
      "           5       0.89      0.52      0.65        66\n",
      "\n",
      "    accuracy                           0.87      2000\n",
      "   macro avg       0.87      0.78      0.81      2000\n",
      "weighted avg       0.87      0.87      0.87      2000\n",
      "\n"
     ]
    }
   ],
   "source": [
    "# Evaluate model\n",
    "from sklearn.metrics import classification_report, confusion_matrix\n",
    "import matplotlib.pyplot as plt\n",
    "import seaborn as sns\n",
    "\n",
    "y_pred = model.predict(X_test)\n",
    "print(\"Classification Report:\")\n",
    "print(classification_report(y_test, y_pred, target_names=[str(cls) for cls in le.classes_]))"
   ]
  },
  {
   "cell_type": "code",
   "execution_count": 16,
   "id": "bb5de972",
   "metadata": {},
   "outputs": [
    {
     "data": {
      "image/png": "[encoded data removed]",
      "text/plain": [
       "<Figure size 576x432 with 2 Axes>"
      ]
     },
     "metadata": {
      "needs_background": "light"
     },
     "output_type": "display_data"
    }
   ],
   "source": [
    "# Confusion matrix\n",
    "conf_matrix = confusion_matrix(y_test, y_pred)\n",
    "plt.figure(figsize=(8, 6))\n",
    "sns.heatmap(conf_matrix, annot=True, fmt='d', cmap='Blues', xticklabels=le.classes_, yticklabels=le.classes_)\n",
    "plt.xlabel('Predicted')\n",
    "plt.ylabel('Actual')\n",
    "plt.title('Confusion Matrix')\n",
    "plt.show()"
   ]
  },
  {
   "cell_type": "markdown",
   "id": "0d5eafd7-551d-4aa8-914c-a0d68ba1a112",
   "metadata": {},
   "source": [
    "## Conclusion\n",
    "\n",
    "In this project, I explored the task of emotion classification in tweets using a traditional NLP pipeline specifically, TF-IDF vectorization combined with Logistic Regression. While many current projects focus on transformer-based models like BERT, my goal was to demonstrate that classical machine learning techniques can still be powerful, interpretable, and efficient for text classification tasks.\n",
    "\n",
    "By training and evaluating the model on the `mteb/emotion` dataset, I was able to build a lightweight yet effective system that performed reasonably well across six different emotion categories. This baseline approach not only runs quickly on standard hardware but also offers insights into which words are most predictive of each emotion — something that's often less transparent in deep learning models.\n",
    "\n",
    "What sets this project apart is its commitment to **simplicity, reproducibility, and accessibility**. Without relying on GPU-intensive models or large-scale pretraining, I showed that it's possible to capture meaningful emotional patterns from social media text using foundational NLP techniques. This is especially valuable in settings where interpretability, low compute cost, or fast experimentation is a priority.\n",
    "\n",
    "Looking ahead, this project opens the door for further work: comparing results with neural models, applying the same pipeline to multilingual datasets, or even using it as an educational tool for newcomers to NLP.\n",
    "\n",
    "Ultimately, this project proves that sometimes, **classic tools used creatively can still solve modern problems.**\n"
   ]
  },
  {
   "cell_type": "code",
   "execution_count": null,
   "id": "ec89b749-9a0b-4034-8bd7-c0291ae3728d",
   "metadata": {},
   "outputs": [],
   "source": []
  }
 ],
 "metadata": {
  "kernelspec": {
   "display_name": "Python 3 (ipykernel)",
   "language": "python",
   "name": "python3"
  },
  "language_info": {
   "codemirror_mode": {
    "name": "ipython",
    "version": 3
   },
   "file_extension": ".py",
   "mimetype": "text/x-python",
   "name": "python",
   "nbconvert_exporter": "python",
   "pygments_lexer": "ipython3",
   "version": "3.9.12"
  }
 },
 "nbformat": 4,
 "nbformat_minor": 5
}
